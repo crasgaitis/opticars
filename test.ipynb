{
 "cells": [
  {
   "cell_type": "code",
   "execution_count": 1,
   "metadata": {},
   "outputs": [
    {
     "name": "stdout",
     "output_type": "stream",
     "text": [
      "Model: Tobii Pro Fusion\n",
      "Serial number: TPFC6-010203104285\n",
      "Can stream eye images: True\n",
      "Can stream gaze data: True\n"
     ]
    },
    {
     "data": {
      "text/plain": [
       "<tobiiresearch.implementation.EyeTracker.EyeTracker at 0x2e26991e7a0>"
      ]
     },
     "execution_count": 1,
     "metadata": {},
     "output_type": "execute_result"
    }
   ],
   "source": [
    "import tobii_research as tr\n",
    "\n",
    "def get_tracker():\n",
    "  all_eyetrackers = tr.find_all_eyetrackers()\n",
    "\n",
    "  for tracker in all_eyetrackers:\n",
    "    print(\"Model: \" + tracker.model)\n",
    "    print(\"Serial number: \" + tracker.serial_number) \n",
    "    print(f\"Can stream eye images: {tr.CAPABILITY_HAS_EYE_IMAGES in tracker.device_capabilities}\")\n",
    "    print(f\"Can stream gaze data: {tr.CAPABILITY_HAS_GAZE_DATA in tracker.device_capabilities}\")\n",
    "    return tracker\n",
    "\n",
    "tracker = get_tracker()\n",
    "tracker"
   ]
  },
  {
   "cell_type": "code",
   "execution_count": 9,
   "metadata": {},
   "outputs": [
    {
     "name": "stdout",
     "output_type": "stream",
     "text": [
      "Getting data...\n"
     ]
    },
    {
     "data": {
      "text/plain": [
       "{'device_time_stamp': 4487241857,\n",
       " 'system_time_stamp': 223083126215,\n",
       " 'left_gaze_point_on_display_area': (0.25351187586784363, 0.5755627751350403),\n",
       " 'left_gaze_point_in_user_coordinate_system': (-46.50455856323242,\n",
       "  55.14906692504883,\n",
       "  9.43087387084961),\n",
       " 'left_gaze_point_validity': 1,\n",
       " 'left_pupil_diameter': 5.818115234375,\n",
       " 'left_pupil_validity': 1,\n",
       " 'left_gaze_origin_in_user_coordinate_system': (-55.121952056884766,\n",
       "  12.225071907043457,\n",
       "  539.22021484375),\n",
       " 'left_gaze_origin_in_trackbox_coordinate_system': (0.6417078375816345,\n",
       "  0.46810030937194824,\n",
       "  0.21608063578605652),\n",
       " 'left_gaze_origin_validity': 1,\n",
       " 'right_gaze_point_on_display_area': (0.2533034384250641, 0.612749457359314),\n",
       " 'right_gaze_point_in_user_coordinate_system': (-46.54388427734375,\n",
       "  51.02855682373047,\n",
       "  7.9310760498046875),\n",
       " 'right_gaze_point_validity': 1,\n",
       " 'right_pupil_diameter': 5.4077301025390625,\n",
       " 'right_pupil_validity': 1,\n",
       " 'right_gaze_origin_in_user_coordinate_system': (5.596215724945068,\n",
       "  14.520074844360352,\n",
       "  532.0411376953125),\n",
       " 'right_gaze_origin_in_trackbox_coordinate_system': (0.485792875289917,\n",
       "  0.46107158064842224,\n",
       "  0.19474540650844574),\n",
       " 'right_gaze_origin_validity': 1}"
      ]
     },
     "execution_count": 9,
     "metadata": {},
     "output_type": "execute_result"
    }
   ],
   "source": [
    "import time\n",
    "\n",
    "\n",
    "def gaze_data_callback(gaze_data):\n",
    "  global global_gaze_data\n",
    "  global_gaze_data = gaze_data\n",
    "  \n",
    "def gaze_data(eyetracker, wait_time=5):\n",
    "  global global_gaze_data\n",
    "\n",
    "  print(\"Getting data...\")\n",
    "  eyetracker.subscribe_to(tr.EYETRACKER_GAZE_DATA, gaze_data_callback, as_dictionary=True)\n",
    "\n",
    "  time.sleep(wait_time)\n",
    "\n",
    "  eyetracker.unsubscribe_from(tr.EYETRACKER_GAZE_DATA, gaze_data_callback)\n",
    "\n",
    "  return global_gaze_data\n",
    "  \n",
    "data = gaze_data(tracker)\n",
    "data"
   ]
  },
  {
   "cell_type": "code",
   "execution_count": null,
   "metadata": {},
   "outputs": [],
   "source": []
  }
 ],
 "metadata": {
  "kernelspec": {
   "display_name": "brainwave_project",
   "language": "python",
   "name": "python3"
  },
  "language_info": {
   "codemirror_mode": {
    "name": "ipython",
    "version": 3
   },
   "file_extension": ".py",
   "mimetype": "text/x-python",
   "name": "python",
   "nbconvert_exporter": "python",
   "pygments_lexer": "ipython3",
   "version": "3.10.13"
  }
 },
 "nbformat": 4,
 "nbformat_minor": 2
}
